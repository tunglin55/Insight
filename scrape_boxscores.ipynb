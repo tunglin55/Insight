{
 "cells": [
  {
   "cell_type": "code",
   "execution_count": 1,
   "metadata": {},
   "outputs": [],
   "source": [
    "import urllib\n",
    "import bs4 \n",
    "import numpy as np\n",
    "import pandas as pd\n",
    "import re\n",
    "import csv\n",
    "import matplotlib.pyplot as plt"
   ]
  },
  {
   "cell_type": "markdown",
   "metadata": {},
   "source": [
    "# Scraping Date, Start Time, Attendance and Venue from Boxscore"
   ]
  },
  {
   "cell_type": "code",
   "execution_count": 1,
   "metadata": {},
   "outputs": [],
   "source": [
    "def parse_boxscore(book_link,year):\n",
    "    book_page = urllib.request.urlopen(book_link).read()\n",
    "    soup = bs4.BeautifulSoup(book_page, 'html.parser')\n",
    "    author = soup.find('div', class_= \"scorebox_meta\")\n",
    "    \n",
    "    # Webpage boxscore structures are different for years after 2018\n",
    "    if year<2018: \n",
    "        date=author.contents[1].string\n",
    "        time=author.contents[3].string\n",
    "        attendance=author.contents[5].text\n",
    "        venue=author.contents[7].text\n",
    "    else:\n",
    "        date=author.contents[1].string\n",
    "        time=author.contents[2].string\n",
    "        attendance=author.contents[3].text\n",
    "        venue=author.contents[4].text\n",
    "            \n",
    "    mlb = [date, time, attendance, venue]\n",
    "    return mlb"
   ]
  },
  {
   "cell_type": "markdown",
   "metadata": {},
   "source": [
    "# Grabbing All Links from Webpage"
   ]
  },
  {
   "cell_type": "code",
   "execution_count": 2,
   "metadata": {},
   "outputs": [],
   "source": [
    "def extract_link_one_page(year):\n",
    "    domain_name='https://www.baseball-reference.com'\n",
    "    url = domain_name+ \"/teams/TOR/\" + str(year) + \"-schedule-scores.shtml\"\n",
    "    html_page = urllib.request.urlopen(url).read()\n",
    "    soup = bs4.BeautifulSoup(html_page, 'html.parser')\n",
    "    links_of_one_page = [domain_name + td.find('a').get(\"href\") for td in soup.find_all('td',{'data-stat':'boxscore'})]\n",
    "    return links_of_one_page"
   ]
  },
  {
   "cell_type": "markdown",
   "metadata": {},
   "source": [
    "# Scraping Through all Links on MLB Schedule Page"
   ]
  },
  {
   "cell_type": "code",
   "execution_count": 3,
   "metadata": {},
   "outputs": [],
   "source": [
    "column_names = ['date', 'time', 'attendance','venue']\n",
    "\n",
    "def scrape_mlb(end_year, export_csv_file, start_year):\n",
    "    with open(export_csv_file, 'a') as write_obj:\n",
    "        writer = csv.writer(write_obj)\n",
    "        writer.writerow(column_names)\n",
    "    for yr in np.arange(start_year, (end_year + 1)):\n",
    "        print(\"Processing year \" + str(yr) + \"...\")\n",
    "        with open(export_csv_file, 'a') as write_obj:\n",
    "            writer = csv.writer(write_obj)\n",
    "            links_of_one_page = extract_link_one_page(yr)\n",
    "            print(yr)\n",
    "            i = 0\n",
    "            for link in links_of_one_page:\n",
    "                book_info = parse_boxscore(link,yr)\n",
    "                i += 1\n",
    "                if i % 10 == 0:\n",
    "                    print(i)\n",
    "                print(link)\n",
    "                print(book_info)\n",
    "                writer.writerow(book_info)\n",
    "\n",
    "#export_csv_file = \"/Users/tung-linwu/Desktop/Insight/data/mlb_scrape/mlb_times.csv\"\n",
    "#scrape_books = scrape_books(2018,export_csv_file, 2014)"
   ]
  }
 ],
 "metadata": {
  "kernelspec": {
   "display_name": "Python 3",
   "language": "python",
   "name": "python3"
  },
  "language_info": {
   "codemirror_mode": {
    "name": "ipython",
    "version": 3
   },
   "file_extension": ".py",
   "mimetype": "text/x-python",
   "name": "python",
   "nbconvert_exporter": "python",
   "pygments_lexer": "ipython3",
   "version": "3.6.8"
  }
 },
 "nbformat": 4,
 "nbformat_minor": 2
}
