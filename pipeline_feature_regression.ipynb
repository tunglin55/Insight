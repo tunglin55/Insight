{
 "cells": [
  {
   "cell_type": "markdown",
   "metadata": {},
   "source": [
    "# Pipeline for Creating Design Matrix for Regression\n",
    "This code is a pipeline that generates and saves a pandas dataframe for a specific travel route in downtown Toronto before being fed for regression model predictions"
   ]
  },
  {
   "cell_type": "code",
   "execution_count": 1,
   "metadata": {},
   "outputs": [
    {
     "name": "stderr",
     "output_type": "stream",
     "text": [
      "Failed to import duecredit due to No module named 'duecredit'\n"
     ]
    }
   ],
   "source": [
    "%matplotlib inline\n",
    "import matplotlib\n",
    "import matplotlib.pyplot as plt\n",
    "import seaborn as sns\n",
    "sns.set()\n",
    "# matplotlib.rcParams['figure.dpi'] = 144\n",
    "from sqlalchemy import create_engine\n",
    "from sqlalchemy_utils import database_exists, create_database\n",
    "import psycopg2\n",
    "import pandas as pd\n",
    "import datetime \n",
    "import pandas_profiling\n",
    "import numpy as np\n",
    "from sklearn.linear_model import LinearRegression\n",
    "from scipy import stats\n",
    "from sklearn.ensemble import RandomForestRegressor\n",
    "from pydoc import help\n",
    "from scipy.stats.stats import pearsonr\n",
    "import forestci as fci\n",
    "from sklearn.metrics import mean_squared_error\n",
    "from sklearn.metrics import r2_score"
   ]
  },
  {
   "cell_type": "markdown",
   "metadata": {},
   "source": [
    "### Setup Parameters"
   ]
  },
  {
   "cell_type": "code",
   "execution_count": 2,
   "metadata": {},
   "outputs": [],
   "source": [
    "data_type='bt'\n",
    "segment='E_D'\n",
    "start_date='2014-04-10'\n",
    "end_date='2017-01-31'\n",
    "\n",
    "resamp_method='H'\n",
    "df = pd.read_csv('/Users/tung-linwu/Desktop/Insight/data/compiled_data/'+segment+'_'+data_type+'_combined.csv')"
   ]
  },
  {
   "cell_type": "markdown",
   "metadata": {},
   "source": [
    "### Anomally Z score filter"
   ]
  },
  {
   "cell_type": "code",
   "execution_count": 26,
   "metadata": {
    "scrolled": true
   },
   "outputs": [],
   "source": [
    "df['timeInSeconds Z'] = abs(df['timeInSeconds'] - df['timeInSeconds'].mean())/df['timeInSeconds'].std(ddof=0)\n",
    "df = df[df['timeInSeconds Z'] < 3]"
   ]
  },
  {
   "cell_type": "markdown",
   "metadata": {},
   "source": [
    "### Assign Timestamps"
   ]
  },
  {
   "cell_type": "code",
   "execution_count": 27,
   "metadata": {},
   "outputs": [],
   "source": [
    "format2 = '%Y-%m-%dT%H:%M:%S-%f'\n",
    "df['Datetime'] = pd.to_datetime(df['updated'], format=format2)\n",
    "df = df.set_index(pd.DatetimeIndex(df['Datetime']))\n",
    "df=df.loc[start_date:end_date]\n",
    "df1 = df[['timeInSeconds']]\n",
    "df1=df1.loc[start_date:end_date]\n",
    "daily = df1.resample(resamp_method).mean()"
   ]
  },
  {
   "cell_type": "markdown",
   "metadata": {},
   "source": [
    "### Add Days of Week to Design Matrix"
   ]
  },
  {
   "cell_type": "code",
   "execution_count": 28,
   "metadata": {},
   "outputs": [],
   "source": [
    "days = ['Mon', 'Tue', 'Wed', 'Thu', 'Fri', 'Sat', 'Sun']\n",
    "for i in range(7):\n",
    "    daily[days[i]] = (daily.index.dayofweek == i).astype(float)"
   ]
  },
  {
   "cell_type": "markdown",
   "metadata": {},
   "source": [
    "### Add Hour of Day and Annual Count to Design Matrix"
   ]
  },
  {
   "cell_type": "code",
   "execution_count": 8,
   "metadata": {},
   "outputs": [],
   "source": [
    "daily['hourfloat2']=daily.index.hour\n",
    "daily['dummy'] = daily['hourfloat2'].apply(lambda x: -4 if x >= 4  else 20)\n",
    "daily['hourfloat'] = daily['dummy'] + daily['hourfloat2']\n",
    "daily = daily.drop(labels='hourfloat2', axis=1)\n",
    "daily = daily.drop(labels='dummy', axis=1)\n",
    "daily['x']=np.sin(2.*np.pi*daily.hourfloat/24.)\n",
    "daily['y']=np.cos(2.*np.pi*daily.hourfloat/24.)\n",
    "daily['annual'] = (daily.index - daily.index[0]).days/365"
   ]
  },
  {
   "cell_type": "markdown",
   "metadata": {},
   "source": [
    "### Add Weather to Design Matrix"
   ]
  },
  {
   "cell_type": "code",
   "execution_count": 9,
   "metadata": {},
   "outputs": [],
   "source": [
    "df2 = pd.read_csv('/Users/tung-linwu/Desktop/Insight/data/compiled_data/Weather_combined.csv')\n",
    "df2['Snow'] = np.where(df2['Weather']=='Snow', 1, 0)\n",
    "format3 = '%Y-%m-%d %H:%M'\n",
    "df2['Datetime'] = pd.to_datetime(df2['Date/Time'], format=format3)\n",
    "df2 = df2.set_index(pd.DatetimeIndex(df2['Datetime']))\n",
    "df2 = df2[['Temp (°C)','Snow','Visibility (km)']]\n",
    "df2 = df2.resample(resamp_method).mean()\n",
    "df_w=df2.sort_values(by=['Datetime'])\n",
    "df_w=df_w.loc[start_date:end_date]\n",
    "daily=pd.concat((daily, df_w), axis=1)\n",
    "daily.head()"
   ]
  },
  {
   "cell_type": "markdown",
   "metadata": {},
   "source": [
    "### Add Holidays to Design Matrix"
   ]
  },
  {
   "cell_type": "code",
   "execution_count": 12,
   "metadata": {},
   "outputs": [],
   "source": [
    "holiday = pd.read_csv('/Users/tung-linwu/Desktop/Insight/data/compiled_data/holiday_combined.csv')\n",
    "holiday = holiday.set_index(pd.DatetimeIndex(holiday['Datetime']))\n",
    "holiday = holiday[['Event Value']]\n",
    "holiday=holiday.loc[start_date:end_date]\n",
    "holiday=holiday.resample('1H').pad(limit=23)\n",
    "daily=pd.concat((daily, holiday), axis=1)\n",
    "daily.rename(columns={'Event Value': 'holiday'}, inplace=True)"
   ]
  },
  {
   "cell_type": "markdown",
   "metadata": {},
   "source": [
    "### Add NBA to Design Matrix"
   ]
  },
  {
   "cell_type": "code",
   "execution_count": 13,
   "metadata": {},
   "outputs": [],
   "source": [
    "nba = pd.read_csv('/Users/tung-linwu/Desktop/Insight/data/compiled_data/nba_combined.csv')\n",
    "nba=nba[nba['Home/Neutral'].str.contains(\"Toronto Raptor\")]\n",
    "format5 = '%m%d%y'\n",
    "nba['Datetime'] = pd.to_datetime(nba['Date']+' '+nba['Start (ET)'], infer_datetime_format=True)\n",
    "nba = nba.set_index(pd.DatetimeIndex(nba['Datetime']))\n",
    "nba = nba[['Attend.']]\n",
    "nba2=nba.resample('1H').backfill(limit=5)\n",
    "nba2=nba2.dropna()\n",
    "nba2 = nba2.resample(resamp_method).sum()\n",
    "nba2=nba2.loc[start_date:end_date]\n",
    "daily=pd.concat((daily, nba2), axis=1)\n",
    "daily.rename(columns={'Attend.': 'NBA'}, inplace=True)"
   ]
  },
  {
   "cell_type": "markdown",
   "metadata": {},
   "source": [
    "### Add MLB to Design Matrix"
   ]
  },
  {
   "cell_type": "code",
   "execution_count": 16,
   "metadata": {},
   "outputs": [],
   "source": [
    "mlb = pd.read_csv('/Users/tung-linwu/Desktop/Insight/data/compiled_data/mlb_combined_time.csv')\n",
    "mlb = mlb.set_index(pd.DatetimeIndex(mlb['Datetime']))\n",
    "mlb = mlb[['attendance']]\n",
    "mlb2=mlb.resample('1H').backfill(limit=5)\n",
    "mlb2=mlb2.dropna()\n",
    "mlb2 = mlb2.resample(resamp_method).sum()\n",
    "mlb2=mlb2.loc[start_date:end_date]\n",
    "daily=pd.concat((daily, mlb2), axis=1)\n",
    "daily.rename(columns={'attendance': 'MLB'}, inplace=True)"
   ]
  },
  {
   "cell_type": "markdown",
   "metadata": {},
   "source": [
    "### Add NHL to Design Matrix"
   ]
  },
  {
   "cell_type": "code",
   "execution_count": 31,
   "metadata": {},
   "outputs": [],
   "source": [
    "nhl = pd.read_csv('/Users/tung-linwu/Desktop/Insight/data/compiled_data/nhl_combined_time.csv')\n",
    "nhl = nhl.set_index(pd.DatetimeIndex(nhl['Datetime']))\n",
    "nhl = nhl[['attendance']]\n",
    "nhl2=nhl.resample('1H').backfill(limit=5)\n",
    "nhl2=nhl2.dropna()\n",
    "\n",
    "nhl2 = nhl2.resample(resamp_method).sum()\n",
    "nhl2=nhl2.loc[start_date:end_date]\n",
    "daily=pd.concat((daily, nhl2), axis=1)\n",
    "daily.rename(columns={'attendance': 'NHL'}, inplace=True)"
   ]
  },
  {
   "cell_type": "markdown",
   "metadata": {},
   "source": [
    "### Add events at Scotiabank Centre to Design Matrix"
   ]
  },
  {
   "cell_type": "code",
   "execution_count": 18,
   "metadata": {},
   "outputs": [],
   "source": [
    "events = pd.read_csv('/Users/tung-linwu/Desktop/Insight/data/events/table-2_edit.txt')\n",
    "events['Datetime'] = pd.to_datetime(events['Dates'], infer_datetime_format=True)\n",
    "events = events.set_index(pd.DatetimeIndex(events['Datetime']))\n",
    "events['Events'] = 1\n",
    "events = events[['Events']]\n",
    "events=events.loc[start_date:end_date]\n",
    "events=events.resample('1H').pad(limit=24)\n",
    "daily=pd.concat((daily, events), axis=1)"
   ]
  },
  {
   "cell_type": "markdown",
   "metadata": {},
   "source": [
    "### Replacing backfilled NaNs with 0s"
   ]
  },
  {
   "cell_type": "code",
   "execution_count": 19,
   "metadata": {},
   "outputs": [],
   "source": [
    "# Fill in NaNs with 0s for sports/Events and whether to convert to binary\n",
    "daily['NBA'].fillna(0, inplace=True)\n",
    "daily['MLB'].fillna(0, inplace=True)\n",
    "daily['NHL'].fillna(0, inplace=True)\n",
    "daily['Events'].fillna(0, inplace=True)\n",
    "daily['holiday'].fillna(0, inplace=True)"
   ]
  },
  {
   "cell_type": "markdown",
   "metadata": {},
   "source": [
    "### Replacing Attendances to Binary"
   ]
  },
  {
   "cell_type": "code",
   "execution_count": null,
   "metadata": {},
   "outputs": [],
   "source": [
    "daily['NBA'] = np.where(daily['NBA']>0, 1, 0)\n",
    "daily['MLB'] = np.where(daily['MLB']>0, 1, 0)\n",
    "daily['NHL'] = np.where(daily['NHL']>0, 1, 0)"
   ]
  },
  {
   "cell_type": "markdown",
   "metadata": {},
   "source": [
    "### Dropping Rows with NaNs and Saving"
   ]
  },
  {
   "cell_type": "code",
   "execution_count": 29,
   "metadata": {},
   "outputs": [],
   "source": [
    "daily=daily.dropna()\n",
    "daily.to_csv('/Users/tung-linwu/Desktop/Insight/data/design_matrix/D_matrix_' +segment+'_'+data_type+ '.csv')"
   ]
  }
 ],
 "metadata": {
  "kernelspec": {
   "display_name": "Python 3",
   "language": "python",
   "name": "python3"
  },
  "language_info": {
   "codemirror_mode": {
    "name": "ipython",
    "version": 3
   },
   "file_extension": ".py",
   "mimetype": "text/x-python",
   "name": "python",
   "nbconvert_exporter": "python",
   "pygments_lexer": "ipython3",
   "version": "3.6.8"
  }
 },
 "nbformat": 4,
 "nbformat_minor": 2
}
